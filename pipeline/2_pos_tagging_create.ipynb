{
 "cells": [
  {
   "cell_type": "code",
   "execution_count": 1,
   "metadata": {},
   "outputs": [
    {
     "name": "stdout",
     "output_type": "stream",
     "text": [
      "Current output directory: '../out/poslog'\n"
     ]
    }
   ],
   "source": [
    "# GENERIC FIRST CELL FOR DEVELOPING A NEW METHODOLOGY\n",
    "\n",
    "# Define an expressive name for the methodology, that will be used to create the output directory\n",
    "# The complete path to the output directory will be provided in OUT_DIR\n",
    "METHODOLOGY_NAME='poslog/'\n",
    "\n",
    "# Set to number of directories below project root if the notebook is in a subdirectory of the project, so you can use relative paths\n",
    "SUBDIR_LEVEL = 1\n",
    "if SUBDIR_LEVEL>0:\n",
    "    import sys \n",
    "    new_path = '../'*SUBDIR_LEVEL\n",
    "    if new_path not in sys.path:\n",
    "        sys.path.append(new_path)\n",
    "\n",
    "import os\n",
    "OUT_DIR = os.path.relpath(os.path.join(os.getcwd(), '../'*SUBDIR_LEVEL, 'out', METHODOLOGY_NAME))\n",
    "if not os.path.exists(OUT_DIR):\n",
    "        os.makedirs(OUT_DIR)\n",
    "print(f\"Current output directory: '{OUT_DIR}'\")\n",
    "\n",
    "%load_ext autoreload\n",
    "%autoreload 2"
   ]
  },
  {
   "cell_type": "code",
   "execution_count": 2,
   "metadata": {},
   "outputs": [
    {
     "name": "stdout",
     "output_type": "stream",
     "text": [
      "Output file: ../out/poslog/2_examples_tagged_upos.csv\n"
     ]
    }
   ],
   "source": [
    "# Precons\n",
    "INPUT_FILE=os.path.join(OUT_DIR,'1_examples_10000_each_seed-42_numb_var.csv')\n",
    "\n",
    "# if file does not exist, throw an error\n",
    "if not os.path.exists(INPUT_FILE):\n",
    "    precon='1_templates_collect_numb_var.ipynb'\n",
    "    raise FileNotFoundError(f\"File '{INPUT_FILE}' not found. Run '{precon}' first.\")\n",
    "\n",
    "OUTPUT_FILE=os.path.join(OUT_DIR, '2_examples_tagged_upos.csv')\n",
    "print(f'Output file: {OUTPUT_FILE}')"
   ]
  },
  {
   "cell_type": "code",
   "execution_count": 3,
   "metadata": {},
   "outputs": [
    {
     "data": {
      "text/html": [
       "<div>\n",
       "<style scoped>\n",
       "    .dataframe tbody tr th:only-of-type {\n",
       "        vertical-align: middle;\n",
       "    }\n",
       "\n",
       "    .dataframe tbody tr th {\n",
       "        vertical-align: top;\n",
       "    }\n",
       "\n",
       "    .dataframe thead th {\n",
       "        text-align: right;\n",
       "    }\n",
       "</style>\n",
       "<table border=\"1\" class=\"dataframe\">\n",
       "  <thead>\n",
       "    <tr style=\"text-align: right;\">\n",
       "      <th></th>\n",
       "      <th>Dataset</th>\n",
       "      <th>Line</th>\n",
       "      <th>Example</th>\n",
       "      <th>Template</th>\n",
       "      <th>ClusterId</th>\n",
       "    </tr>\n",
       "  </thead>\n",
       "  <tbody>\n",
       "    <tr>\n",
       "      <th>0</th>\n",
       "      <td>HDFS</td>\n",
       "      <td>1549</td>\n",
       "      <td>Receiving block blk_5614249702379360530 src: /...</td>\n",
       "      <td>Receiving block &lt;*&gt; src: &lt;*&gt; dest: &lt;*&gt;</td>\n",
       "      <td>0</td>\n",
       "    </tr>\n",
       "    <tr>\n",
       "      <th>1</th>\n",
       "      <td>HDFS</td>\n",
       "      <td>2847</td>\n",
       "      <td>BLOCK* NameSystem.addStoredBlock: blockMap upd...</td>\n",
       "      <td>BLOCK* NameSystem.addStoredBlock: blockMap upd...</td>\n",
       "      <td>1</td>\n",
       "    </tr>\n",
       "    <tr>\n",
       "      <th>2</th>\n",
       "      <td>HDFS</td>\n",
       "      <td>3092</td>\n",
       "      <td>BLOCK* NameSystem.allocateBlock: /user/root/ra...</td>\n",
       "      <td>BLOCK* NameSystem.allocateBlock: &lt;*&gt;</td>\n",
       "      <td>2</td>\n",
       "    </tr>\n",
       "    <tr>\n",
       "      <th>3</th>\n",
       "      <td>HDFS</td>\n",
       "      <td>4819</td>\n",
       "      <td>Received block blk_-6232712486646639079 of siz...</td>\n",
       "      <td>Received block &lt;*&gt; of size &lt;*&gt; from &lt;*&gt;</td>\n",
       "      <td>3</td>\n",
       "    </tr>\n",
       "    <tr>\n",
       "      <th>4</th>\n",
       "      <td>HDFS</td>\n",
       "      <td>9108</td>\n",
       "      <td>PacketResponder 1 for block blk_-6877771159587...</td>\n",
       "      <td>PacketResponder &lt;*&gt; for block &lt;*&gt; terminating</td>\n",
       "      <td>4</td>\n",
       "    </tr>\n",
       "    <tr>\n",
       "      <th>...</th>\n",
       "      <td>...</td>\n",
       "      <td>...</td>\n",
       "      <td>...</td>\n",
       "      <td>...</td>\n",
       "      <td>...</td>\n",
       "    </tr>\n",
       "    <tr>\n",
       "      <th>5543</th>\n",
       "      <td>Mac</td>\n",
       "      <td>110150</td>\n",
       "      <td>UNINSTALLED:com.skype.skype.ShareExtension com...</td>\n",
       "      <td>UNINSTALLED:com.skype.skype.ShareExtension &lt;*&gt;...</td>\n",
       "      <td>536</td>\n",
       "    </tr>\n",
       "    <tr>\n",
       "      <th>5544</th>\n",
       "      <td>Mac</td>\n",
       "      <td>110239</td>\n",
       "      <td>Uncommited CATransaction. Set CA_DEBUG_TRANSAC...</td>\n",
       "      <td>Uncommited CATransaction. Set &lt;*&gt; in environme...</td>\n",
       "      <td>537</td>\n",
       "    </tr>\n",
       "    <tr>\n",
       "      <th>5545</th>\n",
       "      <td>Mac</td>\n",
       "      <td>63596</td>\n",
       "      <td>objc[35448]: Class TSUDurationLocaleSpecificSt...</td>\n",
       "      <td>&lt;*&gt; Class TSUDurationLocaleSpecificStorage is ...</td>\n",
       "      <td>538</td>\n",
       "    </tr>\n",
       "    <tr>\n",
       "      <th>5546</th>\n",
       "      <td>Mac</td>\n",
       "      <td>64616</td>\n",
       "      <td>[00:29:25.872] HTTPRequest figHttpRequestDidFa...</td>\n",
       "      <td>&lt;*&gt; HTTPRequest figHttpRequestDidFailCallback:...</td>\n",
       "      <td>539</td>\n",
       "    </tr>\n",
       "    <tr>\n",
       "      <th>5547</th>\n",
       "      <td>Mac</td>\n",
       "      <td>110865</td>\n",
       "      <td>Garcon destroyed (0 alive).</td>\n",
       "      <td>Garcon destroyed &lt;*&gt; alive).</td>\n",
       "      <td>540</td>\n",
       "    </tr>\n",
       "  </tbody>\n",
       "</table>\n",
       "<p>5548 rows × 5 columns</p>\n",
       "</div>"
      ],
      "text/plain": [
       "     Dataset    Line                                            Example  \\\n",
       "0       HDFS    1549  Receiving block blk_5614249702379360530 src: /...   \n",
       "1       HDFS    2847  BLOCK* NameSystem.addStoredBlock: blockMap upd...   \n",
       "2       HDFS    3092  BLOCK* NameSystem.allocateBlock: /user/root/ra...   \n",
       "3       HDFS    4819  Received block blk_-6232712486646639079 of siz...   \n",
       "4       HDFS    9108  PacketResponder 1 for block blk_-6877771159587...   \n",
       "...      ...     ...                                                ...   \n",
       "5543     Mac  110150  UNINSTALLED:com.skype.skype.ShareExtension com...   \n",
       "5544     Mac  110239  Uncommited CATransaction. Set CA_DEBUG_TRANSAC...   \n",
       "5545     Mac   63596  objc[35448]: Class TSUDurationLocaleSpecificSt...   \n",
       "5546     Mac   64616  [00:29:25.872] HTTPRequest figHttpRequestDidFa...   \n",
       "5547     Mac  110865                        Garcon destroyed (0 alive).   \n",
       "\n",
       "                                               Template  ClusterId  \n",
       "0                Receiving block <*> src: <*> dest: <*>          0  \n",
       "1     BLOCK* NameSystem.addStoredBlock: blockMap upd...          1  \n",
       "2                  BLOCK* NameSystem.allocateBlock: <*>          2  \n",
       "3               Received block <*> of size <*> from <*>          3  \n",
       "4         PacketResponder <*> for block <*> terminating          4  \n",
       "...                                                 ...        ...  \n",
       "5543  UNINSTALLED:com.skype.skype.ShareExtension <*>...        536  \n",
       "5544  Uncommited CATransaction. Set <*> in environme...        537  \n",
       "5545  <*> Class TSUDurationLocaleSpecificStorage is ...        538  \n",
       "5546  <*> HTTPRequest figHttpRequestDidFailCallback:...        539  \n",
       "5547                       Garcon destroyed <*> alive).        540  \n",
       "\n",
       "[5548 rows x 5 columns]"
      ]
     },
     "execution_count": 3,
     "metadata": {},
     "output_type": "execute_result"
    }
   ],
   "source": [
    "import pandas as pd\n",
    "# columns: Dataset,Line,Example,Template,ClusterId\n",
    "example_df=pd.read_csv(INPUT_FILE)\n",
    "example_df"
   ]
  },
  {
   "cell_type": "markdown",
   "metadata": {},
   "source": [
    "# Tokenizer"
   ]
  },
  {
   "cell_type": "code",
   "execution_count": null,
   "metadata": {},
   "outputs": [],
   "source": [
    "from poslog import PosLogTokenizer\n",
    "tokenizer=PosLogTokenizer()"
   ]
  },
  {
   "cell_type": "code",
   "execution_count": null,
   "metadata": {},
   "outputs": [],
   "source": [
    "example_df['Tokens']=example_df['Example'].apply(tokenizer.tokenize)\n",
    "example_df"
   ]
  },
  {
   "cell_type": "markdown",
   "metadata": {},
   "source": [
    "# Unify Punctuation Tokens"
   ]
  },
  {
   "cell_type": "code",
   "execution_count": null,
   "metadata": {},
   "outputs": [],
   "source": [
    "def unify_punct_tokens(tokens:list[str])->list[str]:\n",
    "    for i, token in enumerate(tokens):\n",
    "        if len(token)==1:\n",
    "            if token in ['(', '[', '{']:\n",
    "                tokens[i]='('\n",
    "            elif token in [')', ']', '}']:\n",
    "                tokens[i]=')'\n",
    "            elif token in ['.',',',';',':','!','?']:\n",
    "                # esp. for PTB to generalize punctuation\n",
    "                tokens[i]='.'\n",
    "        # TODO: More of these?\n",
    "    return tokens\n",
    "\n",
    "example_df['Tokens']=example_df['Tokens'].apply(unify_punct_tokens)"
   ]
  },
  {
   "cell_type": "markdown",
   "metadata": {},
   "source": [
    "# PoS-Tagging"
   ]
  },
  {
   "cell_type": "code",
   "execution_count": null,
   "metadata": {},
   "outputs": [],
   "source": [
    "# This cell installes all taggers (if not already installed)\n",
    "# So the first run may take a while.\n",
    "\n",
    "from poslog import AbstractPosTagger\n",
    "from util.pos import NLTKPosTagger, SpacyPosTagger, StanzaPosTagger, HanTaPosTagger, TreeTaggerPosTagger\n",
    "nltk_tagger=NLTKPosTagger()\n",
    "stanza_tagger=StanzaPosTagger()\n",
    "spacy_tagger=SpacyPosTagger()\n",
    "hanta_tagger=HanTaPosTagger()\n",
    "treetagger_tagger=TreeTaggerPosTagger()\n",
    "\n",
    "tagger:dict[str,AbstractPosTagger]={}\n",
    "\n",
    "tagger['nltk']=nltk_tagger.pos_tag\n",
    "tagger['stanza']=stanza_tagger.pos_tag\n",
    "tagger['spacy']=spacy_tagger.pos_tag\n",
    "tagger['hanta']=hanta_tagger.pos_tag\n",
    "tagger['treetagger']=treetagger_tagger.pos_tag\n"
   ]
  },
  {
   "cell_type": "code",
   "execution_count": null,
   "metadata": {},
   "outputs": [],
   "source": [
    "import logging\n",
    "# deactivate logging for treetagger (since there was a pipe error otherwise)\n",
    "logging.getLogger().setLevel(logging.WARNING)\n",
    "\n",
    "i=50\n",
    "for tagger_name, tagger_func in tagger.items():\n",
    "    print(f'{tagger_name} tags line {i}: {tagger_func(example_df[\"Tokens\"][i])}')"
   ]
  },
  {
   "cell_type": "markdown",
   "metadata": {},
   "source": [
    "# Tag with all POS-Taggers"
   ]
  },
  {
   "cell_type": "code",
   "execution_count": null,
   "metadata": {},
   "outputs": [],
   "source": [
    "# add a new column for each tagger\n",
    "import time\n",
    "\n",
    "for name, tagger_func in tagger.items():\n",
    "    print(f\"Tagging with {name}\")\n",
    "    start_time = time.time()\n",
    "\n",
    "    example_df[name]=example_df['Tokens'].apply(tagger_func)\n",
    "\n",
    "    print(f\"- Time taken: {time.time() - start_time:.2f} seconds\")\n",
    "example_df"
   ]
  },
  {
   "cell_type": "code",
   "execution_count": null,
   "metadata": {},
   "outputs": [],
   "source": [
    "# write to file\n",
    "example_df.to_csv(OUTPUT_FILE, index=False)"
   ]
  },
  {
   "cell_type": "code",
   "execution_count": null,
   "metadata": {},
   "outputs": [],
   "source": []
  },
  {
   "cell_type": "code",
   "execution_count": null,
   "metadata": {},
   "outputs": [],
   "source": []
  }
 ],
 "metadata": {
  "kernelspec": {
   "display_name": ".venv",
   "language": "python",
   "name": "python3"
  },
  "language_info": {
   "codemirror_mode": {
    "name": "ipython",
    "version": 3
   },
   "file_extension": ".py",
   "mimetype": "text/x-python",
   "name": "python",
   "nbconvert_exporter": "python",
   "pygments_lexer": "ipython3",
   "version": "3.11.10"
  }
 },
 "nbformat": 4,
 "nbformat_minor": 2
}
